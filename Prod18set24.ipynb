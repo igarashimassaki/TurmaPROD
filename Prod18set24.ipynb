{
  "nbformat": 4,
  "nbformat_minor": 0,
  "metadata": {
    "colab": {
      "provenance": [],
      "authorship_tag": "ABX9TyMBaiujgBvfSF+M44lPEJQg",
      "include_colab_link": true
    },
    "kernelspec": {
      "name": "python3",
      "display_name": "Python 3"
    },
    "language_info": {
      "name": "python"
    }
  },
  "cells": [
    {
      "cell_type": "markdown",
      "metadata": {
        "id": "view-in-github",
        "colab_type": "text"
      },
      "source": [
        "<a href=\"https://colab.research.google.com/github/igarashimassaki/TurmaPROD/blob/main/Prod18set24.ipynb\" target=\"_parent\"><img src=\"https://colab.research.google.com/assets/colab-badge.svg\" alt=\"Open In Colab\"/></a>"
      ]
    },
    {
      "cell_type": "markdown",
      "source": [
        "## 01) Elaborar um programa em python que solicite ao usuário um valor inteiro e em seguida informe ao usuário de o valor é múltiplo de 3 ou não. A seguir o pseudocódigo referente ao algoritmo do programa:\n",
        "\n",
        "início\n",
        "\n",
        "    inteiro: x, r\n",
        "\n",
        "    Ler x\n",
        "\n",
        "    r = resto da divisao de x por 3\n",
        "\n",
        "    se (r==0) então:\n",
        "\n",
        "      escrever \"Múltiplo\"\n",
        "\n",
        "    senão:\n",
        "\n",
        "      escrever \"Não múltiplo\"\n",
        "\n",
        "    fim se\n",
        "\n",
        "fim"
      ],
      "metadata": {
        "id": "CJIupxOZMPCm"
      }
    },
    {
      "cell_type": "code",
      "source": [
        "x = int(input(\"Digite valor inteiro: \"))\n",
        "r = x%3\n",
        "if r==0:\n",
        "  print(\"Múltiplo\")\n",
        "else:\n",
        "  print(\"Não múltiplo\")"
      ],
      "metadata": {
        "colab": {
          "base_uri": "https://localhost:8080/"
        },
        "id": "CwEH86YgMOn3",
        "outputId": "d2b5c1d1-c996-4834-a923-56454fb8a26b"
      },
      "execution_count": null,
      "outputs": [
        {
          "output_type": "stream",
          "name": "stdout",
          "text": [
            "Digite valor inteiro: 44\n",
            "Não múltiplo\n"
          ]
        }
      ]
    },
    {
      "cell_type": "markdown",
      "source": [
        "## Ex02) Dadas as notas a e b de um aluno, com pesos respectivamente 2 e 3; pede-se elaborar um programa em Python para calcular e exibir a média ponderada do aluno, verificar e informar, junto ao valor da sua mádia, se foi aprovado ou não (OBS: Considere aprovado se obtiver média igual ou superior a 5)."
      ],
      "metadata": {
        "id": "oWEe7dfGMRJW"
      }
    },
    {
      "cell_type": "code",
      "source": [],
      "metadata": {
        "id": "X_kVglx2MTxH"
      },
      "execution_count": null,
      "outputs": []
    },
    {
      "cell_type": "markdown",
      "source": [
        "## Ex 03) Dado o algoritmo a seguir, elabore o código python do programa em questão:\n",
        "\n",
        "\n",
        "Início\n",
        "    Leia os três valores: a, b e c.\n",
        "\n",
        "    Compare os valores:\n",
        "\n",
        "    Se a é menor ou igual a b e a é menor ou igual a c, então\n",
        "      \n",
        "      a é o menor valor.\n",
        "\n",
        "    Caso contrário, se b é menor ou igual a a e b é menor ou igual a c, então\n",
        "      \n",
        "      b é o menor valor.\n",
        "\n",
        "    Caso contrário, c é o menor valor.\n",
        "\n",
        "    \n",
        "    Exiba o menor valor.\n",
        "Fim"
      ],
      "metadata": {
        "id": "K4Dedfn2MT6X"
      }
    },
    {
      "cell_type": "code",
      "source": [
        "a = float(input(\"Digite valor a: \"))\n",
        "b = float(input(\"Digite valor b: \"))\n",
        "c = float(input(\"Digite valor c: \"))\n",
        "if a<=b and a<=c:\n",
        "  menor = a\n",
        "elif b<=a and b<=c:\n",
        "  menor = b\n",
        "else:\n",
        "  menor = c\n",
        "print(menor)"
      ],
      "metadata": {
        "colab": {
          "base_uri": "https://localhost:8080/"
        },
        "id": "5VEB-FMAgGdR",
        "outputId": "e7a7dd2b-6f2c-4de3-acce-6ccbe8797e9e"
      },
      "execution_count": null,
      "outputs": [
        {
          "output_type": "stream",
          "name": "stdout",
          "text": [
            "Digite valor a: 2\n",
            "Digite valor b: 5\n",
            "Digite valor c: 3\n",
            "2.0\n"
          ]
        }
      ]
    },
    {
      "cell_type": "code",
      "source": [
        "#for VARIAVEL in range(inicio, fim, passo)\n",
        "for contador in range(2,10,2):\n",
        "  print(contador)"
      ],
      "metadata": {
        "colab": {
          "base_uri": "https://localhost:8080/"
        },
        "id": "9f7hBCj_g3bf",
        "outputId": "3f5dbacf-9775-465f-9f13-3f4023b57f88"
      },
      "execution_count": null,
      "outputs": [
        {
          "output_type": "stream",
          "name": "stdout",
          "text": [
            "2\n",
            "4\n",
            "6\n",
            "8\n"
          ]
        }
      ]
    }
  ]
}